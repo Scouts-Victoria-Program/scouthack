{
 "cells": [
  {
   "cell_type": "markdown",
   "id": "46577402-25e8-4959-abcf-ed3913b2522b",
   "metadata": {
    "deletable": false,
    "editable": false,
    "slideshow": {
     "slide_type": ""
    },
    "tags": []
   },
   "source": [
    "# Introduction to HTML\n",
    "\n",
    "HTML (HyperText Markup Language) is the language of the web. Any web page you view is written in HTML."
   ]
  },
  {
   "cell_type": "markdown",
   "id": "f54bbebc-3de6-4746-9d23-7b4077430ed3",
   "metadata": {
    "deletable": false,
    "editable": false,
    "slideshow": {
     "slide_type": ""
    },
    "tags": []
   },
   "source": [
    " A basic HTML web page looks like this:\n",
    "```html\n",
    "<!DOCTYPE html>\n",
    "<html lang=\"en\">\n",
    "<head>\n",
    "    <meta charset=\"UTF-8\">\n",
    "    <meta http-equiv=\"X-UA-Compatible\" content=\"IE=edge\">\n",
    "    <meta name=\"viewport\" content=\"width=device-width, initial-scale=1.0\">\n",
    "    <title>This is the web page's title</title>\n",
    "</head>\n",
    "<body>\n",
    "    Hello World! This is the web page's content\n",
    "</body>\n",
    "</html>\n",
    "```\n",
    "When we look at it in a web browser, like Mozilla Firefox, Google Chrome, Microsoft Edge, or Safari, it looks like this:\n",
    "\n",
    "---\n",
    "Hello World! This is the web page's content\n",
    "\n",
    "---\n",
    "\n",
    "But what does all that code mean? We aren't going to go over it all, but we will cover some of the basics."
   ]
  },
  {
   "cell_type": "markdown",
   "id": "12e5a091-824f-495b-944d-eeeea6fcae73",
   "metadata": {
    "deletable": false,
    "editable": true,
    "slideshow": {
     "slide_type": ""
    },
    "tags": []
   },
   "source": [
    "## HTML Hello World\n",
    "\n",
    "Whenever we learn a new computer language, it's traditional to write a \"Hello World\" file to start with. This means we write *just enough code* to tell the computer to say \"Hello World!\" to us. So let's start with a really simple HTML file that does that:\n",
    "\n",
    "```html\n",
    "Hello World!\n",
    "```\n",
    "When we display a file like this in a web browser, here's how it looks (feel free to edit this example):\n",
    "\n",
    "---"
   ]
  },
  {
   "cell_type": "markdown",
   "id": "cb98670a-e5a6-4497-a581-30e4505d2330",
   "metadata": {
    "editable": true,
    "slideshow": {
     "slide_type": ""
    },
    "tags": []
   },
   "source": [
    "hello world"
   ]
  },
  {
   "cell_type": "markdown",
   "id": "6d168b7d-a53b-46d2-8fda-64e8b9a2636f",
   "metadata": {
    "editable": true,
    "slideshow": {
     "slide_type": ""
    },
    "tags": []
   },
   "source": [
    "---\n",
    "Not very interesting, is it? Let's add some formatting."
   ]
  },
  {
   "cell_type": "markdown",
   "id": "957fc415-87e1-4719-8f37-823181aea20d",
   "metadata": {
    "deletable": false,
    "editable": false,
    "slideshow": {
     "slide_type": ""
    },
    "tags": []
   },
   "source": [
    "## HTML tags\n",
    "\n",
    "The various elements that make up HTML are created using tags. A tag looks like `<this>`. That is, it's one or more words, surrounded by angle brackets. These angle brackets are also known as the less-than and greater-than signs.\n",
    "\n",
    "You can type these on your keyboard by holding <kbd>Shift</kbd>+<kbd>,</kbd> for `<` (less-than), and <kbd>Shift</kbd>+<kbd>.</kbd> for `>` (greater-than).\n",
    "\n",
    "Most HTML elements require both an start tag, and an end tag. For example, the HTML element has a start tag which looks like `<html>`, and an end tag which looks like `</html>`.\n",
    "\n",
    "Notice that the end tag includes a <kbd>/</kbd>, which is on your keyboard between the <kbd>.</kbd> and the <kbd>Right Shift</kbd> keys; the same key as the <kbd>?</kbd>.\n",
    "\n",
    "Some elements, known as \"void elements\", don't have an end tag or closing tag. We'll see an example of this soon."
   ]
  },
  {
   "cell_type": "markdown",
   "id": "0191c55e-2664-4956-a905-b5aca03f48d9",
   "metadata": {
    "deletable": false,
    "editable": false,
    "jp-MarkdownHeadingCollapsed": true,
    "slideshow": {
     "slide_type": ""
    },
    "tags": []
   },
   "source": [
    "## Headings\n",
    "\n",
    "The first thing we'll do to format our HTML is to add some headings. HTML supports 6 levels of headings. To use these, we surround our heading content in HTML tags `<h1></h1>` through to `<h6></h6>`. If you use another number, such as `<h7></h7>`, it won't do anything interesting.\n",
    "\n",
    "Here are some examples to play with:\n",
    "\n",
    "---"
   ]
  },
  {
   "cell_type": "markdown",
   "id": "58b2c423-584d-478c-93d7-ee46cd2d867a",
   "metadata": {
    "editable": true,
    "slideshow": {
     "slide_type": ""
    },
    "tags": []
   },
   "source": [
    "<h1>This is a heading</h1>\n",
    "<title>Heading</title>\n",
    "<h2>This is a smaller heading</h2>\n",
    "<h3>A level 3 heading</h3>\n",
    "<h4>A level 4 heading</h4>\n",
    "<h5>A level 5 heading</h5>\n",
    "<h6>A level 6 heading</h6>\n",
    "<h7>Not a valid heading</h7>"
   ]
  },
  {
   "cell_type": "markdown",
   "id": "bd97f2fc-7306-48e9-935e-2d9b720527a4",
   "metadata": {
    "deletable": false,
    "editable": false,
    "slideshow": {
     "slide_type": ""
    },
    "tags": []
   },
   "source": [
    "---\n",
    "## Paragraphs\n",
    "\n",
    "Now let's create a paragraph. Paragraphs are used for the regular text you see in a web page, like this sentence you're reading right now. To make a paragraph, we use the `<p></p>` tags, like this:\n",
    "\n",
    "---"
   ]
  },
  {
   "cell_type": "markdown",
   "id": "ad8da36b-d507-4c5e-87ee-074e25745a4a",
   "metadata": {
    "editable": true,
    "slideshow": {
     "slide_type": ""
    },
    "tags": []
   },
   "source": [
    "<p>\n",
    "    This is a paragraph.\n",
    "    It has some text in it.\n",
    "    The text is spread over multiple lines.\n",
    "</p>"
   ]
  },
  {
   "cell_type": "markdown",
   "id": "2d518eb9-6a2c-4e46-b66e-034feb757bd5",
   "metadata": {
    "slideshow": {
     "slide_type": ""
    },
    "tags": []
   },
   "source": [
    "---\n",
    "## Line-breaks\n",
    "If you look at the above example, you'll see that there are actually 3 lines of text inside the `<p>` element, but it all displays on a single line. This is because in HTML, you need to explicitly tell it if you want to start on a new line. We do this using the `<br>` (break) tag. Earlier, we mentioned that some elements (known as \"void elements\") don't have a closing tag. The `<br>` tag is one of these, so we write it as `<br>`, and not `<br></br>`. Below is another paragraph, this time with some line-breaks added:\n",
    "\n",
    "---"
   ]
  },
  {
   "cell_type": "markdown",
   "id": "79a6db14-98b7-4bb8-9fe1-2b7cb9a2fe2b",
   "metadata": {
    "editable": true,
    "slideshow": {
     "slide_type": ""
    },
    "tags": []
   },
   "source": [
    "<p>\n",
    "    To create new lines in HTML,<br>\n",
    "    We need to use the &lt;br&gt; (or 'break') tag.<br>\n",
    "    Lines do not otherwise get split automatically.\n",
    "</p>"
   ]
  },
  {
   "cell_type": "markdown",
   "id": "0e36de6a-ffcb-4232-b615-e30c671349d9",
   "metadata": {
    "editable": true,
    "slideshow": {
     "slide_type": ""
    },
    "tags": []
   },
   "source": [
    "---\n",
    "### Text formatting\n",
    "\n",
    "We cal also make text <strong>bold</strong> using `<strong></strong>`, and <em>italicised</em> using `<em></em>`:\n",
    "\n",
    "---"
   ]
  },
  {
   "cell_type": "markdown",
   "id": "4293841a-09a2-43fe-b1d8-6f1517da7cd6",
   "metadata": {
    "editable": true,
    "slideshow": {
     "slide_type": ""
    },
    "tags": []
   },
   "source": [
    "<p>\n",
    "    Here is some text which has <strong>some parts which are bold</strong>, as well as <em>some parts win italics</em>.<br>\n",
    "    <br>\n",
    "    If we wanted to get <em>really</em> fancy, we could also <u>underline some text</u>, or <del>put a line through it.</del>\n",
    "</p>"
   ]
  },
  {
   "cell_type": "markdown",
   "id": "357e56f5-5f5a-44bd-93a8-e6da547c99dd",
   "metadata": {
    "slideshow": {
     "slide_type": ""
    },
    "tags": []
   },
   "source": [
    "---\n",
    "Note that it's also possible to use `<b></b>` to create <b>bold text</b>, and `<i></i>` to put <i>text in italics</i>, but this is discouraged and usualyl not you want.\n",
    "\n",
    "## Images\n",
    "\n",
    "We can also add images to our HTML. This is done using the `<img>` element. Like the `<br>` element, `<img>` is a void element with no closing tag.\n",
    "\n",
    "To add an image, we need to specify which image file our image is in. Here's how we do that:\n",
    "\n",
    "```html\n",
    "<img src=\"scout_logo.png\">\n",
    "```\n",
    "\n",
    "And here's what that looks like:\n",
    "\n",
    "---"
   ]
  },
  {
   "cell_type": "markdown",
   "id": "61b8b691-413c-462c-a688-bb4146a023ef",
   "metadata": {
    "slideshow": {
     "slide_type": ""
    },
    "tags": []
   },
   "source": [
    "<img src=\"scout_logo.png\">"
   ]
  },
  {
   "cell_type": "markdown",
   "id": "4805ac19-9cb7-4fb9-843c-f120ca0c79d4",
   "metadata": {
    "editable": false,
    "slideshow": {
     "slide_type": ""
    },
    "tags": []
   },
   "source": [
    "---\n",
    "\n",
    "## HTML Attributes\n",
    "\n",
    "We've just done something new. In addition to our `<img>` tag, we've got this `src=` bit. This is called an \"attribute\". Most HTML tags can have attributes. They are usually of the form `attribute-name=\"some attribute value\"`, though some of them are *just* a name.\n",
    "\n",
    "For the `<img>` tag, the `src` attribute tells the computer where to find the image we want it to display, by providing the file name. If you take a look at the JupyterLab file browser on the left, you'll see the file for the image we're loading here."
   ]
  },
  {
   "cell_type": "markdown",
   "id": "46839328-94bb-4d10-8d89-bdcac2dc8d32",
   "metadata": {
    "editable": false,
    "slideshow": {
     "slide_type": ""
    },
    "tags": []
   },
   "source": [
    "# Links\n",
    "\n",
    "One of the big benefits of HTML is its ability to create links between web pages. This is done using the HTML anchor tag, written as `<a></a>`. The full format is `<a href=\"linked_page.html\">description goes here</a>`. The `href` attribute specifies the location of the page we want to link to, and the content of the tag (the `description goes here` bit) is what we see on the page and then click on.\n",
    "\n",
    "Take a look below.\n",
    "\n",
    "Note that when you click the link, the new page will be opened in a file tab inside JupyterLab, and you'll need to close it or click on this tab again to get back here:\n",
    "\n",
    "---"
   ]
  },
  {
   "cell_type": "markdown",
   "id": "6ac85aae-7a9a-42ae-aa78-c9ec2463e985",
   "metadata": {
    "editable": true,
    "slideshow": {
     "slide_type": ""
    },
    "tags": []
   },
   "source": [
    "<a href=\"linked_page.html\">description goes here</a>"
   ]
  },
  {
   "cell_type": "markdown",
   "id": "1fbbabea-c635-4d8a-b08b-8912dba90a65",
   "metadata": {
    "editable": false,
    "slideshow": {
     "slide_type": ""
    },
    "tags": []
   },
   "source": [
    "---\n",
    "Now that we can create links between web pages, and add images to them, we have all the tools we need to make a web site (where a \"site\" is a collection of \"pages\") with quite a lot of content. Before we start working on that, though, let's just cover off a few other formatting things that will make our pages a bit easier to read.\n",
    "\n",
    "## Lists\n",
    "\n",
    "In HTML, you can create two different types of lists. Ordered lists, and unordered lists. Ordered lists have numbers (or letters) in front of them, and unordered lists just use a bullet point or similar.\n",
    "\n",
    "To create an ordered list, we use the `<ol></ol>` element (`ol` stands for \"ordered list\").\n",
    "\n",
    "To create an *unordered* list, we use the `<ul></ul>` element (for \"unordered list\").\n",
    "\n",
    "Then, inside those element tags, we create our \"list items\", designated by `<li></li>` elements. Here are a couple of examples:\n",
    "\n",
    "```html\n",
    "<ol>\n",
    "    <li>one fish</li>\n",
    "    <li>two fish</li>\n",
    "    <li>red fish</li>\n",
    "    <li>blue fish</li>\n",
    "</ol>\n",
    "\n",
    "<ul>\n",
    "    <li>apples</li>\n",
    "    <li>bananas</li>\n",
    "    <li>oranges</li>\n",
    "    <li>kittens</li>\n",
    "</ul>\n",
    "```\n",
    "And here's how they look:\n",
    "\n",
    "---"
   ]
  },
  {
   "cell_type": "markdown",
   "id": "d0ea4b5b-77d9-4526-97a5-7e99bb6511b5",
   "metadata": {
    "editable": true,
    "slideshow": {
     "slide_type": ""
    },
    "tags": []
   },
   "source": [
    "<ol>\n",
    "    <li>one fish</li>\n",
    "    <li>two fish</li>\n",
    "    <li>red fish</li>\n",
    "    <li>blue fish</li>\n",
    "</ol>\n",
    "\n",
    "<ul>\n",
    "    <li>apples</li>\n",
    "    <li>bananas</li>\n",
    "    <li>oranges</li>\n",
    "    <li>kittens</li>\n",
    "</ul>"
   ]
  },
  {
   "cell_type": "markdown",
   "id": "ff48e580-a28b-476b-823b-b69e3ca9b238",
   "metadata": {
    "editable": false,
    "slideshow": {
     "slide_type": ""
    },
    "tags": []
   },
   "source": [
    "---\n",
    "# Tables\n",
    "\n",
    "The last bit of formatting we're going to look at for now is HTML tables. Besides from the `<table></table>` element, a HTML table can contain:\n",
    "\n",
    "* A header (`<thead></thead>`)\n",
    "* Some column headings (`<th></th>`)\n",
    "* A body (`<tbody></tbody>`)\n",
    "* Some rows (`<tr></tr>`)\n",
    "* Some columns, or \"divisions\" (`<td></td>`)\n",
    "\n",
    "Here's how a basic HTML table might be written:\n",
    "```html\n",
    "<table>\n",
    "    <thead>\n",
    "        <tr>\n",
    "            <th>Heading for column 1</th>\n",
    "            <th>Heading for column 2</th>\n",
    "        </tr>\n",
    "    </thead>\n",
    "    <tbody>\n",
    "        <tr>\n",
    "            <td>1A</td>\n",
    "            <td>2A</td>\n",
    "        </tr>\n",
    "        <tr>\n",
    "            <td>1B</td>\n",
    "            <td>2B</td>\n",
    "        </tr>\n",
    "    </tbody>\n",
    "</table>\n",
    "```\n",
    "And here's how it turns out:\n",
    "\n",
    "---"
   ]
  },
  {
   "cell_type": "markdown",
   "id": "2af4db24-d327-4bc9-b838-278c72d0c049",
   "metadata": {
    "editable": true,
    "slideshow": {
     "slide_type": ""
    },
    "tags": []
   },
   "source": [
    "<table>\n",
    "    <thead>\n",
    "        <tr>\n",
    "            <th>Heading for column 1</th>\n",
    "            <th>Heading for column 2</th>\n",
    "        </tr>\n",
    "    </thead>\n",
    "    <tbody>\n",
    "        <tr>\n",
    "            <td>1A</td>\n",
    "            <td>2A</td>\n",
    "        </tr>\n",
    "        <tr>\n",
    "            <td>1B</td>\n",
    "            <td>2B</td>\n",
    "        </tr>\n",
    "    </tbody>\n",
    "</table>"
   ]
  },
  {
   "cell_type": "markdown",
   "id": "0db8681c-0b71-45dc-809b-1996cc5a9ffd",
   "metadata": {
    "editable": true,
    "slideshow": {
     "slide_type": ""
    },
    "tags": []
   },
   "source": [
    "---\n",
    "---\n",
    "# Introduction to CSS"
   ]
  },
  {
   "cell_type": "markdown",
   "id": "49fdae28-44ad-410a-9962-3ba2a7800776",
   "metadata": {
    "editable": true,
    "slideshow": {
     "slide_type": ""
    },
    "tags": []
   },
   "source": [
    "While HTML is used to write the *content* of a web page, CSS (Cascading Style Sheets) is used to format and lay out the content to make it all pretty and useful. CSS is responsible for deciding where HTML elements go on the screen, how big they are, what colour they are, and many other things.\n",
    "\n",
    "Before we dig into actual CSS, a quick note about how computers refer to colours.\n",
    "\n",
    "## Colours\n",
    "\n",
    "In HTML and CSS, there a several different ways we can refer to a colour that we want to use. The most straightforward is to use the colour's keyword.\n",
    "\n",
    "A colour keyword is something like \"blue\" or \"green\". There are quite a few of both [basic](https://www.w3.org/TR/css-color-3/#html4) and [extended](https://www.w3.org/TR/css-color-3/#svg-color) colour keywords, but there are a *lot* of colours out there, so we can't name them all.\n",
    "\n",
    "The most common way to refer to colours is by how they are made up. When it comes to colours, computers think in terms of red, green, and blue. By using different brightnesses of these three colours, we can make up most other colours. Each of these three colours can have a value between 0 and 255. So, for example, Cub Scout Yellow is 255 red, 201 green, and 12 blue. We can write this as `RGB(255, 201, 12)` (where RGB stands for Red, Green, Blue):\n",
    "\n",
    "---"
   ]
  },
  {
   "cell_type": "markdown",
   "id": "050177d0-565a-4272-844c-32898d603d02",
   "metadata": {},
   "source": [
    "<p style=\"color: RGB(255, 201, 12)\">Hello world</p>"
   ]
  },
  {
   "cell_type": "markdown",
   "id": "623b9a6b-b5a5-4b47-997e-6e59ec477bab",
   "metadata": {},
   "source": [
    "---\n",
    "Often though, computers count by 16s instead of 10s, using a number system called \"hexadecimal\" (our usual number system is called \"decimal\"). We won't cover it in great detail, but all that you really need to know right now is that in hexadecimal, there are 16 \"numbers\" instead of 10:\n",
    "\n",
    "|Hexadecimal|Decimal|\n",
    "|:-:|-:|\n",
    "|0|0|\n",
    "|1|1|\n",
    "|2|2|\n",
    "|3|3|\n",
    "|4|4|\n",
    "|5|5|\n",
    "|6|6|\n",
    "|7|7|\n",
    "|8|8|\n",
    "|9|9|\n",
    "|A|10|\n",
    "|B|11|\n",
    "|C|12|\n",
    "|D|13|\n",
    "|E|14|\n",
    "|F|15|\n",
    "\n",
    "Also, when we write colours in hexadecimal, we start them with a hash (`#`; type this with <kbd>Shift</kbd>+<kbd>3</kbd>). So Cub Scout Yellow instead looks like `#ffc90`:\n",
    "\n",
    "---"
   ]
  },
  {
   "cell_type": "markdown",
   "id": "6a329279-21b9-4904-ae14-8f05da5be9cf",
   "metadata": {
    "editable": true,
    "slideshow": {
     "slide_type": ""
    },
    "tags": []
   },
   "source": [
    "<p style=\"color: #ffc90c\">Hello world in hexadecimal</p>"
   ]
  },
  {
   "cell_type": "markdown",
   "id": "b0496e37-2333-42ab-a4d0-3f65e5831877",
   "metadata": {},
   "source": [
    "<p style=\"color: #ffc90c; background-color: darkblue\">\n",
    "    Feel free to play with the colours of this paragraph to get familiar with them\n",
    "</p>"
   ]
  },
  {
   "cell_type": "markdown",
   "id": "1aec6bf8-f41b-4076-b0e1-8535ac4e8896",
   "metadata": {},
   "source": [
    "---\n",
    "\n",
    "## CSS Inline Styles\n",
    "\n",
    "As you saw in the previous examples:\n",
    "```html\n",
    "<p style=\"color: RGB(255, 201, 12)\">Hello world</p>\n",
    "```\n",
    "\n",
    "We used a `style` attribute to set our colours. The `style` attribute is used to create an \"inline\" CSS style. This means that we put it *within* our HTML, alongside the bit we want to affect.\n",
    "\n",
    "We can also put our CSS elsewhere, out of the way of our HTML. It can go either at the top of our HTML file (a `<style>` element), or in a separate file entirely (such as one called `styles.css`). The advantage of this is that it means we separate our content from our appearance, making it easier to manage both.\n",
    "\n",
    "Let's take a look at a CSS `<style>` element:\n",
    "\n",
    "```html\n",
    "<style>\n",
    "    color: orange;\n",
    "</style>\n",
    "<p>This paragraph is styled using a style element at the top of the document</p>\n",
    "```\n",
    "**FIXME: CSS can't be rendered :(**"
   ]
  },
  {
   "cell_type": "markdown",
   "id": "d6a92e29-bf2d-4d29-966b-b88f1cdf56cb",
   "metadata": {},
   "source": [
    "<style>\n",
    "    p {color: orange; }\n",
    "</style>\n",
    "<p>This paragraph is styled using a style element at the top of the document</p>"
   ]
  },
  {
   "cell_type": "code",
   "execution_count": null,
   "id": "b0d580d0-3527-427a-8815-f2008f010330",
   "metadata": {},
   "outputs": [],
   "source": []
  }
 ],
 "metadata": {
  "kernelspec": {
   "display_name": "Python 3 (ipykernel)",
   "language": "python",
   "name": "python3"
  },
  "language_info": {
   "codemirror_mode": {
    "name": "ipython",
    "version": 3
   },
   "file_extension": ".py",
   "mimetype": "text/x-python",
   "name": "python",
   "nbconvert_exporter": "python",
   "pygments_lexer": "ipython3",
   "version": "3.11.4"
  },
  "widgets": {
   "application/vnd.jupyter.widget-state+json": {
    "state": {},
    "version_major": 2,
    "version_minor": 0
   }
  }
 },
 "nbformat": 4,
 "nbformat_minor": 5
}
