{
 "cells": [
  {
   "cell_type": "markdown",
   "id": "46577402-25e8-4959-abcf-ed3913b2522b",
   "metadata": {
    "deletable": false,
    "editable": false,
    "slideshow": {
     "slide_type": ""
    },
    "tags": [
     "instruction"
    ]
   },
   "source": [
    "# Introduction to HTML\n",
    "\n",
    "HTML is the language of the web. Any web page you view is written in HTML."
   ]
  },
  {
   "cell_type": "markdown",
   "id": "f54bbebc-3de6-4746-9d23-7b4077430ed3",
   "metadata": {
    "deletable": false,
    "editable": false,
    "slideshow": {
     "slide_type": ""
    },
    "tags": [
     "instruction"
    ]
   },
   "source": [
    " A basic HTML web page looks like this:\n",
    "```html\n",
    "<!DOCTYPE html>\n",
    "<html lang=\"en\">\n",
    "<head>\n",
    "    <meta charset=\"UTF-8\">\n",
    "    <meta http-equiv=\"X-UA-Compatible\" content=\"IE=edge\">\n",
    "    <meta name=\"viewport\" content=\"width=device-width, initial-scale=1.0\">\n",
    "    <title>This is the web page's title</title>\n",
    "</head>\n",
    "<body>\n",
    "    Hello World! This is the web page's content\n",
    "</body>\n",
    "</html>\n",
    "```\n",
    "When we look at it in a web browser, like Mozilla Firefox, Google Chrome, Microsoft Edge, or Safari, it looks like this:\n",
    "\n",
    "---\n",
    "Hello World! This is the web page's content\n",
    "\n",
    "---\n",
    "\n",
    "But what does all that code mean? We aren't going to go over it all, but we will cover some of the basics."
   ]
  },
  {
   "cell_type": "markdown",
   "id": "12e5a091-824f-495b-944d-eeeea6fcae73",
   "metadata": {
    "deletable": false,
    "editable": true,
    "slideshow": {
     "slide_type": ""
    },
    "tags": [
     "instruction"
    ]
   },
   "source": [
    "## HTML Hello World\n",
    "\n",
    "Whenever we learn a new computer language, it's traditional to write a \"Hello World\" file to start with. This means we write *just enough code* to tell the computer to say \"Hello World!\" to us. So let's start with a really simple HTML file that does that:\n",
    "\n",
    "```html\n",
    "Hello World!\n",
    "```\n",
    "When we display a file like this in a web browser, here's how it looks (feel free to edit this example):\n",
    "\n",
    "---"
   ]
  },
  {
   "cell_type": "markdown",
   "id": "cb98670a-e5a6-4497-a581-30e4505d2330",
   "metadata": {
    "editable": true,
    "slideshow": {
     "slide_type": ""
    },
    "tags": [
     "example"
    ]
   },
   "source": [
    "hello world"
   ]
  },
  {
   "cell_type": "markdown",
   "id": "6d168b7d-a53b-46d2-8fda-64e8b9a2636f",
   "metadata": {
    "editable": true,
    "slideshow": {
     "slide_type": ""
    },
    "tags": [
     "instruction"
    ]
   },
   "source": [
    "---\n",
    "Not very interesting, is it? Let's add some formatting."
   ]
  },
  {
   "cell_type": "markdown",
   "id": "957fc415-87e1-4719-8f37-823181aea20d",
   "metadata": {
    "deletable": false,
    "editable": false,
    "slideshow": {
     "slide_type": ""
    },
    "tags": [
     "instruction"
    ]
   },
   "source": [
    "## HTML tags\n",
    "\n",
    "The various elements that make up HTML are created using tags. A tag looks like `<this>`. That is, it's one or more words, surrounded by angle brackets. These angle brackets are also known as the less-than and greater-than signs.\n",
    "\n",
    "You can type these on your keyboard by holding <kbd>Shift</kbd>+<kbd>,</kbd> for `<` (less-than), and <kbd>Shift</kbd>+<kbd>.</kbd> for `>` (greater-than).\n",
    "\n",
    "Most HTML elements require both an start tag, and an end tag. For example, the HTML element has a start tag which looks like `<html>`, and an end tag which looks like `</html>`.\n",
    "\n",
    "Notice that the end tag includes a <kbd>/</kbd>, which is on your keyboard between the <kbd>.</kbd> and the <kbd>Right Shift</kbd> keys; the same key as the <kbd>?</kbd>.\n",
    "\n",
    "Some elements, known as \"void elements\", don't have an end tag or closing tag. We'll see an example of this soon."
   ]
  },
  {
   "cell_type": "markdown",
   "id": "0191c55e-2664-4956-a905-b5aca03f48d9",
   "metadata": {
    "deletable": false,
    "editable": false,
    "jp-MarkdownHeadingCollapsed": true,
    "slideshow": {
     "slide_type": ""
    },
    "tags": [
     "instruction"
    ]
   },
   "source": [
    "## Headings\n",
    "\n",
    "The first thing we'll do to format our HTML is to add some headings. HTML supports 6 levels of headings. To use these, we surround our heading content in HTML tags `<h1></h1>` through to `<h6></h6>`. If you use another number, such as `<h7></h7>`, it won't do anything interesting.\n",
    "\n",
    "Here are some examples to play with:\n",
    "\n",
    "---"
   ]
  },
  {
   "cell_type": "markdown",
   "id": "58b2c423-584d-478c-93d7-ee46cd2d867a",
   "metadata": {
    "editable": true,
    "slideshow": {
     "slide_type": ""
    },
    "tags": [
     "example"
    ]
   },
   "source": [
    "<h1>This is a heading</h1>\n",
    "<h2>This is a smaller heading</h2>\n",
    "<h3>A level 3 heading</h3>\n",
    "<h4>A level 4 heading</h4>\n",
    "<h5>A level 5 heading</h5>\n",
    "<h6>A level 6 heading</h6>\n",
    "<h7>Not a valid heading</h7>"
   ]
  },
  {
   "cell_type": "markdown",
   "id": "bd97f2fc-7306-48e9-935e-2d9b720527a4",
   "metadata": {
    "deletable": false,
    "editable": false,
    "slideshow": {
     "slide_type": ""
    },
    "tags": [
     "instruction"
    ]
   },
   "source": [
    "---\n",
    "## Paragraphs\n",
    "\n",
    "Now let's create a paragraph. Paragraphs are used for the regular text you see in a web page, like this sentence you're reading right now. To make a paragraph, we use the `<p></p>` tags, like this:\n",
    "\n",
    "---"
   ]
  },
  {
   "cell_type": "markdown",
   "id": "ad8da36b-d507-4c5e-87ee-074e25745a4a",
   "metadata": {
    "editable": true,
    "slideshow": {
     "slide_type": ""
    },
    "tags": []
   },
   "source": [
    "<p>\n",
    "    This is a paragraph.\n",
    "    It has some text in it.\n",
    "    The text is spread over multiple lines.\n",
    "</p>"
   ]
  },
  {
   "cell_type": "markdown",
   "id": "2d518eb9-6a2c-4e46-b66e-034feb757bd5",
   "metadata": {
    "slideshow": {
     "slide_type": ""
    },
    "tags": []
   },
   "source": [
    "---\n",
    "## Line-breaks\n",
    "If you look at the above example, you'll see that there are actually 3 lines of text inside the `<p>` element, but it all displays on a single line. This is because in HTML, you need to explicitly tell it if you want to start on a new line. We do this using the `<br>` (break) tag. Earlier, we mentioned that some elements (known as \"void elements\") don't have a closing tag. The `<br>` tag is one of these, so we write it as `<br>`, and not `<br></br>`. Below is another paragraph, this time with some line-breaks added:\n",
    "\n",
    "---"
   ]
  },
  {
   "cell_type": "markdown",
   "id": "79a6db14-98b7-4bb8-9fe1-2b7cb9a2fe2b",
   "metadata": {
    "editable": true,
    "slideshow": {
     "slide_type": ""
    },
    "tags": []
   },
   "source": [
    "<p>\n",
    "    To create new lines in HTML,<br>\n",
    "    We need to use the &lt;br&gt; (or 'break') tag.<br>\n",
    "    Lines do not otherwise get split automatically.\n",
    "</p>"
   ]
  },
  {
   "cell_type": "markdown",
   "id": "0e36de6a-ffcb-4232-b615-e30c671349d9",
   "metadata": {
    "editable": true,
    "slideshow": {
     "slide_type": ""
    },
    "tags": []
   },
   "source": [
    "---\n",
    "### Text formatting\n",
    "\n",
    "We cal also make text <strong>bold</strong> using `<strong></strong>`, and <em>italicised</em> using `<em></em>`:\n",
    "\n",
    "---"
   ]
  },
  {
   "cell_type": "markdown",
   "id": "4293841a-09a2-43fe-b1d8-6f1517da7cd6",
   "metadata": {
    "editable": true,
    "slideshow": {
     "slide_type": ""
    },
    "tags": []
   },
   "source": [
    "<p>\n",
    "    Here is some text which has <strong>some parts which are bold</strong>, as well as <em>some parts win italics</em>.<br>\n",
    "    <br>\n",
    "    If we wanted to get <em>really</em> fancy, we could also <u>underline some text</u>, or <del>put a line through it.</del>\n",
    "</p>"
   ]
  },
  {
   "cell_type": "markdown",
   "id": "2fdece87-291a-4786-a791-9d8c9bf60b89",
   "metadata": {
    "editable": false,
    "slideshow": {
     "slide_type": ""
    },
    "tags": []
   },
   "source": [
    "---\n",
    "Note that it's also possible to use `<b></b>` to create <b>bold text</b>, and `<i></i>` to put <i>text in italics</i>, but this is discouraged and usualyl not you want."
   ]
  }
 ],
 "metadata": {
  "kernelspec": {
   "display_name": "Python 3 (ipykernel)",
   "language": "python",
   "name": "python3"
  },
  "language_info": {
   "codemirror_mode": {
    "name": "ipython",
    "version": 3
   },
   "file_extension": ".py",
   "mimetype": "text/x-python",
   "name": "python",
   "nbconvert_exporter": "python",
   "pygments_lexer": "ipython3",
   "version": "3.11.4"
  },
  "widgets": {
   "application/vnd.jupyter.widget-state+json": {
    "state": {},
    "version_major": 2,
    "version_minor": 0
   }
  }
 },
 "nbformat": 4,
 "nbformat_minor": 5
}
